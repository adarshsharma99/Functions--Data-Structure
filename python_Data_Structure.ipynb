{
  "nbformat": 4,
  "nbformat_minor": 0,
  "metadata": {
    "colab": {
      "provenance": []
    },
    "kernelspec": {
      "name": "python3",
      "display_name": "Python 3"
    },
    "language_info": {
      "name": "python"
    }
  },
  "cells": [
    {
      "cell_type": "code",
      "execution_count": null,
      "metadata": {
        "id": "vWLnrhVDxMky"
      },
      "outputs": [],
      "source": []
    },
    {
      "cell_type": "markdown",
      "source": [
        "# Functions- Data Structure\n"
      ],
      "metadata": {
        "id": "2Rr9mO8QxoHc"
      }
    },
    {
      "cell_type": "markdown",
      "source": [
        "1. What are data structures, and why are they important\n",
        "- Data structures are ways to organize and store data in a computer so that it can be efficiently accessed, modified, and manipulated. They provide a way to manage large amounts of data, making it possible to perform operations such as sorting, searching, and inserting data.\n",
        "\n",
        "## Types of Data Structures\n",
        "1. Arrays: A collection of elements of the same data type stored in contiguous memory locations.\n",
        "2. Linked Lists: A dynamic collection of elements, where each element points to the next element.\n",
        "3. Stacks: A Last-In-First-Out (LIFO) data structure, where elements are added and removed from the top.\n",
        "4. Queues: A First-In-First-Out (FIFO) data structure, where elements are added to the end and removed from the front.\n",
        "5. Trees: A hierarchical data structure, where each node has a value and zero or more child nodes.\n",
        "6. Graphs: A non-linear data structure, where nodes are connected by edges.\n",
        "\n",
        "## Why are Data Structures Important?\n",
        "1. Efficient Data Management: Data structures enable efficient storage, retrieval, and manipulation of data.\n",
        "2. Improved Algorithm Performance: Well-chosen data structures can significantly improve the performance of algorithms.\n",
        "3. Scalability: Data structures can handle large amounts of data, making them essential for big data applications.\n",
        "4. Problem-Solving: Data structures provide a way to represent complex problems in a manageable way, enabling effective solutions.\n",
        "\n",
        "## Real-World Applications\n",
        "1. Database Management: Data structures are used to store and manage large amounts of data in databases.\n",
        "2. Web Search Engines: Data structures such as indexes and graphs are used to efficiently search and retrieve web pages.\n",
        "3. Social Networks: Data structures such as graphs are used to represent relationships between users.\n",
        "4. Game Development: Data structures such as trees and graphs are used to represent game states and optimize game logic.\n",
        "\n",
        "\n",
        "\n",
        "\n"
      ],
      "metadata": {
        "id": "h-ys9l8TxyD8"
      }
    },
    {
      "cell_type": "markdown",
      "source": [
        "2.   Explain the difference between mutable and immutable data types with examples\n",
        "- Mutable vs Immutable Data Types\n",
        "\n",
        "## Mutable Data Types\n",
        "Mutable data types are objects that can be modified after creation. Changes to the object affect the original object.\n",
        "\n",
        "### Examples\n",
        "1. Lists: [1, 2, 3]\n",
        "2. Dictionaries: {\"name\": \"John\", \"age\": 30}\n",
        "3. Sets: {1, 2, 3}\n",
        "# List example\n",
        "my_list = [1, 2, 3]\n",
        "my_list.append(4)\n",
        "print(my_list)  # Output: [1, 2, 3, 4]\n",
        "\n",
        "# Dictionary example\n",
        "my_dict = {\"name\": \"John\", \"age\": 30}\n",
        "my_dict[\"age\"] = 31\n",
        "print(my_dict)  # Output: {\"name\": \"John\", \"age\": 31}\n",
        "## Immutable Data Types\n",
        "Immutable data types are objects that cannot be modified after creation. Changes to the object create a new object.\n",
        "\n",
        "### Examples\n",
        "1. Integers: 5\n",
        "2. Floats: 3.14\n",
        "3. Strings: \"hello\"\n",
        "4. Tuples: (1, 2, 3)\n",
        "# String example\n",
        "my_string = \"hello\"\n",
        "# Trying to modify the string will create a new string\n",
        "my_string_upper = my_string.upper()\n",
        "print(my_string)  # Output: \"hello\"\n",
        "print(my_string_upper)  # Output: \"HELLO\"\n",
        "\n",
        "# Tuple example\n",
        "my_tuple = (1, 2, 3)\n",
        "# Trying to modify the tuple will raise an error\n",
        "try:\n",
        "    my_tuple[0] = 4\n",
        "except TypeError:\n",
        "    print(\"Tuples are immutable!\")\n",
        "## Key Differences\n",
        "1. Modifiability: Mutable objects can be modified, while immutable objects cannot.\n",
        "2. Memory: Mutable objects can be modified in-place, while immutable objects create a new object in memory.\n",
        "\n"
      ],
      "metadata": {
        "id": "8I-X-Wor0b85"
      }
    },
    {
      "cell_type": "markdown",
      "source": [
        "3. What are the main differences between lists and tuples in Python\n",
        "- Lists vs Tuples in Python\n",
        "\n",
        "## Lists\n",
        "1. Mutable: Lists are mutable, meaning they can be modified after creation.\n",
        "2. Defined by: Lists are defined using square brackets [].\n",
        "3. Use cases: Lists are useful when you need to store a collection of items that may need to be modified.\n",
        "\n",
        "### Example\n",
        "my_list = [1, 2, 3]\n",
        "my_list.append(4)\n",
        "print(my_list)  # Output: [1, 2, 3, 4]\n",
        "## Tuples\n",
        "1. Immutable: Tuples are immutable, meaning they cannot be modified after creation.\n",
        "2. Defined by: Tuples are defined using parentheses ().\n",
        "3. Use cases: Tuples are useful when you need to store a collection of items that should not be modified.\n",
        "\n",
        "### Example\n",
        "my_tuple = (1, 2, 3)\n",
        "try:\n",
        "    my_tuple[0] = 4\n",
        "except TypeError:\n",
        "    print(\"Tuples are immutable!\")\n",
        "## Key Differences\n",
        "1. Mutability: Lists are mutable, while tuples are immutable.\n",
        "2. Syntax: Lists use square brackets [], while tuples use parentheses ().\n",
        "3. Performance: Tuples are generally faster and more memory-efficient than lists.\n",
        "\n",
        "## When to Use Each\n",
        "1. Use lists: When you need to store a collection of items that may need to be modified.\n",
        "2. Use tuples: When you need to store a collection of items that should not be modified, or when you need to use a collection as a dictionary key (since tuples are hashable).\n",
        "\n"
      ],
      "metadata": {
        "id": "ZfRJo-KG0r1m"
      }
    },
    {
      "cell_type": "markdown",
      "source": [
        "4.  Describe how dictionaries store data\n",
        "- Dictionaries in Python\n",
        "\n",
        "Dictionaries are a type of data structure that stores data in key-value pairs. They are mutable, meaning they can be modified after creation.\n",
        "\n",
        "## Key-Value Pairs\n",
        "1. Keys: Unique strings or immutable objects that identify the data.\n",
        "2. Values: Data associated with the keys, which can be of any data type.\n",
        "\n",
        "## How Dictionaries Store Data\n",
        "1. Hash Table: Dictionaries use a hash table data structure to store key-value pairs.\n",
        "2. Key Hashing: When a key is added to the dictionary, Python calculates a hash value for the key.\n",
        "3. Indexing: The hash value is used to determine the index at which the key-value pair is stored.\n",
        "\n",
        "## Benefits\n",
        "1. Fast Lookups: Dictionaries provide fast lookups, with an average time complexity of O(1).\n",
        "2. Flexible Data Structure: Dictionaries can store a wide range of data types, including strings, integers, floats, and other dictionaries.\n",
        "\n",
        "## Example\n",
        "person = {\"name\": \"John\", \"age\": 30}\n",
        "print(person[\"name\"])  # Output: John\n",
        "## Dictionary Operations\n",
        "1. Insertion: Adding a new key-value pair to the dictionary.\n",
        "2. Lookup: Retrieving the value associated with a key.\n",
        "3. Update: Modifying the value associated with a key.\n",
        "4. Deletion: Removing a key-value pair from the dictionary.\n",
        "\n"
      ],
      "metadata": {
        "id": "-lnGyXfC04vA"
      }
    },
    {
      "cell_type": "markdown",
      "source": [
        "5. Why might you use a set instead of a list in Python\n",
        "- Sets vs Lists in Python\n",
        "\n",
        "## Sets\n",
        "1. Unordered collection: Sets are unordered collections of unique elements.\n",
        "2. Fast membership testing: Sets provide fast membership testing, with an average time complexity of O(1).\n",
        "3. Use cases: Sets are useful when you need to store a collection of unique items and perform operations such as union, intersection, and difference.\n",
        "\n",
        "## Lists\n",
        "1. Ordered collection: Lists are ordered collections of elements.\n",
        "2. Indexing: Lists support indexing, allowing you to access elements by their index.\n",
        "3. Use cases: Lists are useful when you need to store a collection of items that need to be ordered or indexed.\n",
        "\n",
        "## Why Use a Set Instead of a List?\n",
        "1. Faster membership testing: Sets provide faster membership testing than lists.\n",
        "2. Unique elements: Sets automatically eliminate duplicates, ensuring that all elements are unique.\n",
        "3. Set operations: Sets support set operations such as union, intersection, and difference, which can be useful in certain scenarios.\n",
        "\n",
        "## Example\n",
        "# Using a set to eliminate duplicates\n",
        "my_list = [1, 2, 2, 3, 4, 4, 5]\n",
        "my_set = set(my_list)\n",
        "print(my_set)  # Output: {1, 2, 3, 4, 5}\n",
        "\n",
        "# Using a set for fast membership testing\n",
        "print(2 in my_set)  # Output: True\n",
        "print(6 in my_set)  # Output: False\n",
        "## When to Use a Set\n",
        "1. Unique elements: When you need to store a collection of unique elements.\n",
        "2. Fast membership testing: When you need to perform fast membership testing.\n",
        "3. Set operations: When you need to perform set operations such as union, intersection, and difference.\n",
        "\n"
      ],
      "metadata": {
        "id": "JnofnmK21DyU"
      }
    },
    {
      "cell_type": "markdown",
      "source": [
        "6. What is a string in Python, and how is it different from a list\n",
        "- Strings in Python\n",
        "\n",
        "A string in Python is a sequence of characters, such as letters, numbers, or symbols, enclosed in quotes (either single quotes ' or double quotes \").\n",
        "\n",
        "## String Characteristics\n",
        "1. Immutable: Strings are immutable, meaning they cannot be modified after creation.\n",
        "2. Sequence: Strings are sequences of characters, allowing you to access individual characters using indexing.\n",
        "3. String methods: Strings have various methods for manipulation, such as upper(), lower(), split(), and join().\n",
        "\n",
        "## Difference from Lists\n",
        "1. Immutability: Strings are immutable, while lists are mutable.\n",
        "2. Character sequence: Strings are sequences of characters, while lists can contain any type of element.\n",
        "3. String-specific methods: Strings have methods specific to string manipulation, while lists have methods for general sequence manipulation.\n",
        "\n",
        "## Example\n",
        "my_string = \"hello\"\n",
        "print(my_string[0])  # Output: h\n",
        "\n",
        "try:\n",
        "    my_string[0] = \"H\"\n",
        "except TypeError:\n",
        "    print(\"Strings are immutable!\")\n",
        "\n",
        "my_list = [\"h\", \"e\", \"l\", \"l\", \"o\"]\n",
        "my_list[0] = \"H\"\n",
        "print(my_list)  # Output: [\"H\", \"e\", \"l\", \"l\", \"o\"]\n",
        "## When to Use Strings\n",
        "1. Text data: When working with text data, such as words, sentences, or paragraphs.\n",
        "2. String manipulation: When you need to perform string-specific operations, such as concatenation, splitting, or searching.\n",
        "\n",
        "\n"
      ],
      "metadata": {
        "id": "1p_n5Tr31N58"
      }
    },
    {
      "cell_type": "markdown",
      "source": [
        "7. How do tuples ensure data integrity in Python\n",
        "- Tuples and Data Integrity\n",
        "\n",
        "Tuples in Python ensure data integrity by being immutable, meaning their contents cannot be modified after creation.\n",
        "\n",
        "## Benefits of Immutability\n",
        "1. Data protection: Tuples protect data from unintended modifications.\n",
        "2. Thread safety: Tuples are thread-safe, as multiple threads cannot modify the same tuple simultaneously.\n",
        "3. Code predictability: Tuples ensure code predictability, as their contents remain consistent throughout the program's execution.\n",
        "\n",
        "## Use Cases\n",
        "1. Constants: Tuples can be used to represent constants that should not be changed.\n",
        "2. Data records: Tuples can be used to represent data records that should remain consistent.\n",
        "3. Dictionary keys: Tuples can be used as dictionary keys, as they are hashable and immutable.\n",
        "\n",
        "## Example\n",
        "# Creating a tuple\n",
        "my_tuple = (1, 2, 3)\n",
        "\n",
        "# Attempting to modify a tuple\n",
        "try:\n",
        "    my_tuple[0] = 4\n",
        "except TypeError:\n",
        "    print(\"Tuples are immutable!\")\n",
        "## Best Practices\n",
        "1. Use tuples for constants: Use tuples to represent constants that should not be changed.\n",
        "2. Use tuples for data records: Use tuples to represent data records that should remain consistent.\n",
        "3. Avoid converting tuples to lists: Avoid converting tuples to lists unless necessary, as this can compromise data integrity.\n",
        "\n"
      ],
      "metadata": {
        "id": "TbP5ft1b1YwD"
      }
    },
    {
      "cell_type": "markdown",
      "source": [
        "8. P What is a hash table, and how does it relate to dictionaries in Python\n",
        "- Hash Tables and Dictionaries\n",
        "\n",
        "A hash table is a data structure that stores key-value pairs in an array using a hash function to map keys to indices.\n",
        "\n",
        "## How Hash Tables Work\n",
        "1. Key hashing: When a key is added to the hash table, a hash function is used to generate a hash code.\n",
        "2. Index calculation: The hash code is used to calculate the index at which the key-value pair is stored.\n",
        "3. Collision resolution: When two keys hash to the same index, a collision resolution mechanism is used to handle the conflict.\n",
        "\n",
        "## Dictionaries in Python\n",
        "1. Hash table implementation: Dictionaries in Python are implemented using hash tables.\n",
        "2. Fast lookups: Dictionaries provide fast lookups, with an average time complexity of O(1).\n",
        "3. Key-value pairs: Dictionaries store key-value pairs, allowing you to access values by their corresponding keys.\n",
        "\n",
        "## Benefits of Hash Tables in Dictionaries\n",
        "1. Fast lookups: Hash tables enable fast lookups, making dictionaries suitable for large datasets.\n",
        "2. Efficient insertions: Hash tables allow for efficient insertions, making dictionaries suitable for dynamic data.\n",
        "\n",
        "## Example\n",
        "# Creating a dictionary\n",
        "my_dict = {\"name\": \"John\", \"age\": 30}\n",
        "\n",
        "# Accessing a value by its key\n",
        "print(my_dict[\"name\"])  # Output: John\n",
        "## Best Practices\n",
        "1. Use immutable keys: Use immutable keys, such as strings or tuples, to ensure hashability.\n",
        "2. Avoid large hash table resizing: Avoid adding a large number of key-value pairs to a dictionary, as this can trigger hash table resizing.\n",
        "\n"
      ],
      "metadata": {
        "id": "ORgt3H8A1l3f"
      }
    },
    {
      "cell_type": "markdown",
      "source": [
        "9.  Can lists contain different data types in Python\n",
        "- Lists in Python\n",
        "\n",
        "Yes, lists in Python can contain different data types. Lists are heterogeneous, meaning they can store elements of various data types, such as:\n",
        "\n",
        "## Example\n",
        "my_list = [1, \"hello\", 3.14, True, None]\n",
        "print(my_list)  # Output: [1, 'hello', 3.14, True, None]\n",
        "## Benefits\n",
        "1. Flexibility: Lists can store a wide range of data types, making them versatile.\n",
        "2. Dynamic: Lists can be modified dynamically, allowing you to add or remove elements of different data types.\n",
        "\n",
        "## Use Cases\n",
        "1. Mixed data: When you need to store a collection of mixed data types.\n",
        "2. Dynamic data: When you need to store data that may change dynamically.\n",
        "\n",
        "## Considerations\n",
        "1. Type checking: When working with lists containing different data types, you may need to perform type checking to ensure correct operations.\n",
        "2. Data consistency: When storing different data types in a list, ensure that the data is consistent and can be processed correctly.\n",
        "\n"
      ],
      "metadata": {
        "id": "DTj3qTcu1xGa"
      }
    },
    {
      "cell_type": "markdown",
      "source": [
        "10. P Explain why strings are immutable in Python\n",
        "- Immutability of Strings in Python\n",
        "\n",
        "Strings in Python are immutable, meaning their contents cannot be modified after creation.\n",
        "\n",
        "## Reasons for Immutability\n",
        "1. Security: Immutability ensures that strings cannot be modified maliciously, which is important for security-sensitive applications.\n",
        "2. Thread safety: Immutable strings are thread-safe, as multiple threads cannot modify the same string simultaneously.\n",
        "3. Hashability: Immutable strings can be used as dictionary keys, as their hash value remains constant.\n",
        "4. Performance: Immutability allows Python to optimize string operations, such as interning strings.\n",
        "\n",
        "## Benefits\n",
        "1. Predictable behavior: Immutable strings ensure predictable behavior, as their contents remain consistent.\n",
        "2. Code reliability: Immutable strings reduce the risk of unexpected changes, making code more reliable.\n",
        "\n",
        "## Example\n",
        "my_string = \"hello\"\n",
        "try:\n",
        "    my_string[0] = \"H\"\n",
        "except TypeError:\n",
        "    print(\"Strings are immutable!\")\n",
        "## Best Practices\n",
        "1. Use string methods: Use string methods, such as upper() or replace(), to create new strings instead of modifying existing ones.\n",
        "2. Create new strings: When modifying a string, create a new string instead of trying to modify the original.\n",
        "\n"
      ],
      "metadata": {
        "id": "hGPZlt-G17Ow"
      }
    },
    {
      "cell_type": "markdown",
      "source": [
        "11. What advantages do dictionaries offer over lists for certain tasks\n",
        "- Dictionaries vs Lists\n",
        "\n",
        "Dictionaries offer several advantages over lists for certain tasks:\n",
        "\n",
        "## Advantages of Dictionaries\n",
        "1. Fast lookups: Dictionaries provide fast lookups, with an average time complexity of O(1), making them suitable for large datasets.\n",
        "2. Key-value pairs: Dictionaries store key-value pairs, allowing you to access values by their corresponding keys.\n",
        "3. Efficient insertions: Dictionaries allow for efficient insertions, making them suitable for dynamic data.\n",
        "4. Readability: Dictionaries can improve code readability by using meaningful keys instead of indices.\n",
        "\n",
        "## Use Cases\n",
        "1. Data caching: Dictionaries can be used to cache data, providing fast access to frequently used values.\n",
        "2. Configuration files: Dictionaries can be used to store configuration data, making it easy to access and modify settings.\n",
        "3. Data normalization: Dictionaries can be used to normalize data, providing a consistent way to access and manipulate data.\n",
        "\n",
        "## Example\n",
        "# Using a dictionary to store student grades\n",
        "student_grades = {\"John\": 90, \"Jane\": 85, \"Bob\": 95}\n",
        "print(student_grades[\"John\"])  # Output: 90\n",
        "## When to Use Dictionaries\n",
        "1. Fast lookups: When you need fast lookups and efficient insertions.\n",
        "2. Key-value pairs: When you need to store key-value pairs and access values by their corresponding keys.\n",
        "3. Readability: When you want to improve code readability by using meaningful keys.\n",
        "\n"
      ],
      "metadata": {
        "id": "JMpiDioJ2F5F"
      }
    },
    {
      "cell_type": "markdown",
      "source": [
        "12.  Describe a scenario where using a tuple would be preferable over a list\n",
        "- Tuples vs Lists\n",
        "\n",
        "A scenario where using a tuple would be preferable over a list is when you need to store a collection of constants or data that should not be modified.\n",
        "\n",
        "## Example Scenario\n",
        "Suppose you're developing a program that needs to store the days of the week. Since the days of the week are fixed and shouldn't be changed, a tuple would be a suitable data structure:\n",
        "days_of_week = (\"Monday\", \"Tuesday\", \"Wednesday\", \"Thursday\", \"Friday\", \"Saturday\", \"Sunday\")\n",
        "## Why Tuples are Preferable\n",
        "1. Immutability: Tuples ensure that the days of the week cannot be modified accidentally or maliciously.\n",
        "2. Code integrity: Using a tuple conveys the intention that the data should not be changed, making the code more predictable and maintainable.\n",
        "3. Performance: Tuples are slightly faster than lists due to their immutability.\n",
        "\n",
        "## Benefits\n",
        "1. Data protection: Tuples protect the data from unintended modifications.\n",
        "2. Code reliability: Tuples make the code more reliable by ensuring that the data remains consistent.\n",
        "\n",
        "## When to Use Tuples\n",
        "1. Constants: When you need to store constants or data that should not be modified.\n",
        "2. Data integrity: When you need to ensure data integrity and prevent accidental modifications.\n",
        "3. Performance-critical code: When you're working on performance-critical code and need a slight performance boost.\n",
        "\n"
      ],
      "metadata": {
        "id": "qlZKZOh62Qia"
      }
    },
    {
      "cell_type": "markdown",
      "source": [
        "13.  How do sets handle duplicate values in Python\n",
        "- Sets and Duplicate Values\n",
        "\n",
        "In Python, sets automatically eliminate duplicate values. When you add a duplicate value to a set, it is ignored, and the set remains unchanged.\n",
        "\n",
        "## Example\n",
        "my_set = {1, 2, 3, 2, 4}\n",
        "print(my_set)  # Output: {1, 2, 3, 4}\n",
        "## How Sets Handle Duplicates\n",
        "1. Hashing: Sets use hashing to store unique elements. When you add an element to a set, Python calculates its hash value.\n",
        "2. Duplicate detection: If the hash value of an element is already present in the set, Python detects it as a duplicate and ignores it.\n",
        "\n",
        "## Benefits\n",
        "1. Automatic deduplication: Sets automatically eliminate duplicates, making them useful for data deduplication tasks.\n",
        "2. Fast membership testing: Sets provide\n",
        "\n"
      ],
      "metadata": {
        "id": "P721lqpM2eQ4"
      }
    },
    {
      "cell_type": "markdown",
      "source": [
        "14. How does the “in” keyword work differently for lists and dictionaries\n",
        "- \"in\" Keyword for Lists and Dictionaries\n",
        "\n",
        "The \"in\" keyword in Python works differently for lists and dictionaries:\n",
        "\n",
        "## Lists\n",
        "For lists, the \"in\" keyword checks if a value is present in the list.\n",
        "my_list = [1, 2, 3]\n",
        "print(2 in my_list)  # Output: True\n",
        "print(4 in my_list)  # Output: False\n",
        "## Dictionaries\n",
        "For dictionaries, the \"in\" keyword checks if a key is present in the dictionary.\n",
        "my_dict = {\"name\": \"John\", \"age\": 30}\n",
        "print(\"name\" in my_dict)  # Output: True\n",
        "print(\"city\" in my_dict)  # Output: False\n",
        "## Key Differences\n",
        "1. List: Checks for value presence.\n",
        "2. Dictionary: Checks for key presence.\n",
        "\n",
        "## Use Cases\n",
        "1. List: Use \"in\" to check if an element is present in a list.\n",
        "2. Dictionary: Use \"in\" to check if a key is present in a dictionary.\n",
        "\n",
        "## Example\n",
        "# List example\n",
        "fruits = [\"apple\", \"banana\", \"orange\"]\n",
        "print(\"apple\" in fruits)  # Output: True\n",
        "\n"
      ],
      "metadata": {
        "id": "CvEMbfEX21i5"
      }
    },
    {
      "cell_type": "markdown",
      "source": [
        "15. Can you modify the elements of a tuple? Explain why or why not\n",
        "- Modifying Tuple Elements\n",
        "\n",
        "No, you cannot modify the elements of a tuple directly. Tuples are immutable data structures in Python, meaning their contents cannot be changed after creation.\n",
        "\n",
        "## Why Tuples are Immutable\n",
        "1. Design: Tuples are designed to be immutable, ensuring that their contents remain consistent and predictable.\n",
        "2. Hashability: Tuples are hashable, which means they can be used as dictionary keys. Immutability is a requirement for hashability.\n",
        "\n",
        "## Attempting to Modify a Tuple\n",
        "my_tuple = (1, 2, 3)\n",
        "try:\n",
        "    my_tuple[0] = 4\n",
        "except TypeError:\n",
        "    print(\"Tuples are immutable!\")\n",
        "## Workarounds\n",
        "If you need to modify a tuple-like data structure, you can:\n",
        "\n",
        "1. Convert to list: Convert the tuple to a list, modify the list, and then convert it back to a tuple if needed.\n",
        "\n"
      ],
      "metadata": {
        "id": "BrRQ_nwq3Ahs"
      }
    },
    {
      "cell_type": "markdown",
      "source": [
        "16. What is a nested dictionary, and give an example of its use case\n",
        "- Nested Dictionaries\n",
        "\n",
        "A nested dictionary is a dictionary that contains another dictionary as its value. This allows for complex data structures and hierarchical organization of data.\n",
        "\n",
        "## Example\n",
        "person = {\n",
        "    \"name\": \"John\",\n",
        "    \"age\": 30,\n",
        "    \"address\": {\n",
        "        \"street\": \"123 Main St\",\n",
        "        \"city\": \"New York\",\n",
        "        \"state\": \"NY\"\n",
        "    }\n",
        "}\n",
        "## Use Case\n",
        "Nested dictionaries are useful when you need to store complex data with hierarchical relationships. For example:\n",
        "\n",
        "1. User profiles: Store user information with nested dictionaries for address, contact details, and other relevant data.\n",
        "2. Product catalogs: Use nested dictionaries to store product information with attributes like price, description, and specifications.\n",
        "\n",
        "## Accessing Nested Dictionary Values\n",
        "print(person[\"address\"][\"street\"])  # Output: 123 Main St\n",
        "## Benefits\n",
        "1. Hierarchical data organization: Nested dictionaries allow for efficient organization of complex data.\n",
        "2. Easy data access: Nested dictionaries provide easy access to specific data elements.\n",
        "\n",
        "## Real-World Example\n",
        "# Student information with nested dictionary for grades\n",
        "student = {\n",
        "    \"name\": \"John\",\n",
        "    \"grades\": {\n",
        "        \"math\": 90,\n",
        "        \"science\": 85,\n",
        "        \"english\": 95\n",
        "    }\n",
        "}\n",
        "\n"
      ],
      "metadata": {
        "id": "TF5rKMhN3LGY"
      }
    },
    {
      "cell_type": "markdown",
      "source": [
        "17.  Describe the time complexity of accessing elements in a dictionary\n",
        "- Time Complexity of Dictionary Access\n",
        "\n",
        "The time complexity of accessing elements in a dictionary is typically O(1), making dictionaries very efficient for lookups.\n",
        "\n",
        "## Why O(1) Time Complexity\n",
        "1. Hashing: Dictionaries use hashing to store and retrieve elements. The hash function maps keys to indices, allowing for fast lookups.\n",
        "2. Average case: In the average case, dictionary lookups are O(1) because the hash function distributes keys evenly across the dictionary.\n",
        "\n",
        "## Worst-Case Scenario\n",
        "1. Hash collisions: In the worst-case scenario, hash collisions can occur, leading to a time complexity of O(n). However, this is rare and usually occurs when the dictionary is poorly implemented or has a large number of collisions.\n",
        "\n",
        "## Benefits\n",
        "1. Fast lookups: Dictionaries provide fast lookups, making them suitable for large datasets and applications that require efficient data retrieval.\n",
        "2. Efficient insertions: Dictionaries also provide efficient insertions, making them suitable for dynamic data.\n",
        "\n",
        "## Example\n",
        "my_dict = {\"name\": \"John\", \"age\": 30}\n",
        "print(my_dict[\"name\"])  # Output: John (O(1) time complexity)\n",
        "\n"
      ],
      "metadata": {
        "id": "x78myobv3YS-"
      }
    },
    {
      "cell_type": "markdown",
      "source": [
        "18. In what situations are lists preferred over dictionaries\n",
        "- Lists vs Dictionaries\n",
        "\n",
        "Lists are preferred over dictionaries in the following situations:\n",
        "\n",
        "## Situations Where Lists are Preferred\n",
        "1. Ordered data: When the order of elements matters, lists are preferred because they maintain the insertion order.\n",
        "2. Index-based access: When you need to access elements by their index, lists are more suitable.\n",
        "3. Homogeneous data: When working with homogeneous data (e.g., a list of numbers or strings), lists are often more intuitive.\n",
        "4. Iteration: When you need to iterate over a collection of elements in a specific order, lists are preferred.\n",
        "\n",
        "## Use Cases\n",
        "1. Data sequences: Lists are suitable for storing data sequences, such as a list of numbers or a list of strings.\n",
        "2. Stacks and queues: Lists can be used to implement stacks and queues, where elements are added and removed in a specific order.\n",
        "\n",
        "## Example\n",
        "# Using a list to store a sequence of numbers\n",
        "numbers = [1, 2, 3, 4, 5]\n",
        "print(numbers[0])  # Output: 1\n",
        "## When to Choose Lists Over Dictionaries\n",
        "1. Order matters: When the order of elements is important.\n",
        "2. Index-based access: When you need to access elements by their index.\n",
        "3. Homogeneous data: When working with homogeneous data.\n",
        "\n"
      ],
      "metadata": {
        "id": "0FLfDlF-3ilM"
      }
    },
    {
      "cell_type": "markdown",
      "source": [
        "19. Why are dictionaries considered unordered, and how does that affect data retrieval.\n",
        "- Dictionaries and Order\n",
        "\n",
        "Prior to Python 3.7, dictionaries were considered unordered data structures. This means that the order of key-value pairs was not guaranteed to be the same as the order in which they were inserted.\n",
        "\n",
        "## Why Dictionaries Were Unordered\n",
        "1. Hash table implementation: Dictionaries were implemented using hash tables, which do not preserve the insertion order of elements.\n",
        "2. Internal storage: The internal storage of dictionaries was designed for fast lookups, not for preserving order.\n",
        "\n",
        "## Python 3.7 and Later\n",
        "In Python 3.7 and later, dictionaries maintain their insertion order. This means that when you iterate over a dictionary, the key-value pairs will be returned in the order they were inserted.\n",
        "\n",
        "## Impact on Data Retrieval\n",
        "1. Pre-Python 3.7: When working with dictionaries in older versions of Python, you couldn't rely on the order of key-value pairs.\n",
        "2. Python 3.7 and later: With the preservation of insertion order, dictionaries can be used in situations where order matters.\n",
        "\n",
        "## Example\n",
        "# Python 3.7 and later\n",
        "my_dict = {\"a\": 1, \"b\": 2, \"c\": 3}\n",
        "for key, value in my_dict.items():\n",
        "    print(key, value)\n",
        "# Output:\n",
        "# a 1\n",
        "# b 2\n",
        "# c 3\n",
        "## Best Practices\n",
        "1. Use OrderedDict: If you need to support older versions of Python, consider using the OrderedDict class from the collections module.\n",
        "2. Rely on insertion order: In Python 3.7 and later, you can rely on the insertion order of dictionaries.\n",
        "\n"
      ],
      "metadata": {
        "id": "1uT7OxhG3reF"
      }
    },
    {
      "cell_type": "markdown",
      "source": [
        "20. P Explain the difference between a list and a dictionary in terms of data retrieval.\n",
        "- Lists vs Dictionaries: Data Retrieval\n",
        "\n",
        "The main difference between lists and dictionaries in terms of data retrieval is:\n",
        "\n",
        "## Lists\n",
        "1. Index-based access: Lists are accessed using indexes (integer values).\n",
        "2. Ordered data: Lists maintain the order of elements.\n",
        "\n",
        "## Dictionaries\n",
        "1. Key-based access: Dictionaries are accessed using keys (unique identifiers).\n",
        "2. Fast lookups: Dictionaries provide fast lookups, with an average time complexity of O(1).\n",
        "\n",
        "## Data Retrieval Examples\n",
        "# List example\n",
        "my_list = [1, 2, 3]\n",
        "print(my_list[0])  # Output: 1\n",
        "\n",
        "# Dictionary example\n",
        "my_dict = {\"name\": \"John\", \"age\": 30}\n",
        "print(my_dict[\"name\"])  # Output: John\n",
        "## Key Differences\n",
        "1. Access method: Lists use indexes, while dictionaries use keys.\n",
        "2. Data structure: Lists are ordered collections, while dictionaries are unordered (pre-Python 3.7) or insertion-ordered (Python 3.7 and later).\n",
        "\n",
        "## Choosing Between Lists and Dictionaries\n",
        "1. Use lists: When you need to store ordered data or access elements by index.\n",
        "2. Use dictionaries: When you need fast lookups and access elements by a unique key.\n",
        "\n"
      ],
      "metadata": {
        "id": "CPj2-V9431Wv"
      }
    },
    {
      "cell_type": "markdown",
      "source": [
        "# Practical Questions-\n",
        "\n"
      ],
      "metadata": {
        "id": "yS9haAtP4FTD"
      }
    },
    {
      "cell_type": "code",
      "source": [
        "'''\n",
        "1. Write a code to create a string with your name and print it\n",
        "'''\n",
        "name = \"Adarsh Sharma\"\n",
        "print(name)\n",
        "\n"
      ],
      "metadata": {
        "colab": {
          "base_uri": "https://localhost:8080/"
        },
        "id": "uuz35kmt4NDq",
        "outputId": "6604fe1c-3424-491a-eb4d-2cd3cc2c71e3"
      },
      "execution_count": 42,
      "outputs": [
        {
          "output_type": "stream",
          "name": "stdout",
          "text": [
            "Adarsh Sharma\n"
          ]
        }
      ]
    },
    {
      "cell_type": "code",
      "source": [
        "'''\n",
        "2. Write a code to find the length of the string \"Hello World\"\n",
        "'''\n",
        "my_string = \"Hello World\"\n",
        "length = len(my_string)\n",
        "print(length)\n",
        "\n"
      ],
      "metadata": {
        "colab": {
          "base_uri": "https://localhost:8080/"
        },
        "id": "KKkEMx_Q451H",
        "outputId": "5ebda254-1edc-4e44-b010-73f9687558ec"
      },
      "execution_count": 41,
      "outputs": [
        {
          "output_type": "stream",
          "name": "stdout",
          "text": [
            "11\n"
          ]
        }
      ]
    },
    {
      "cell_type": "code",
      "source": [
        "'''\n",
        "3.  Write a code to slice the first 3 characters from the string \"Python Programming\n",
        "'''\n",
        "my_string = \"Python Programming\"\n",
        "sliced_string = my_string[:3]\n",
        "print(sliced_string)\n",
        "\n"
      ],
      "metadata": {
        "colab": {
          "base_uri": "https://localhost:8080/"
        },
        "id": "nygdHzQd5rBc",
        "outputId": "5f61cf14-9d70-45c4-a721-b026b816810e"
      },
      "execution_count": 39,
      "outputs": [
        {
          "output_type": "stream",
          "name": "stdout",
          "text": [
            "Pyt\n"
          ]
        }
      ]
    },
    {
      "cell_type": "code",
      "source": [
        "'''\n",
        "4. Write a code to convert the string \"hello\" to uppercase\n",
        "'''\n",
        "my_string = \"hello\"\n",
        "uppercase_string = my_string.upper()\n",
        "print(uppercase_string)\n"
      ],
      "metadata": {
        "colab": {
          "base_uri": "https://localhost:8080/"
        },
        "id": "DOAztjxv5-J-",
        "outputId": "26f78dbb-4ca4-4b3a-d9f2-65b05a38d608"
      },
      "execution_count": 40,
      "outputs": [
        {
          "output_type": "stream",
          "name": "stdout",
          "text": [
            "HELLO\n"
          ]
        }
      ]
    },
    {
      "cell_type": "code",
      "source": [
        "'''\n",
        "5. Write a code to replace the word \"apple\" with \"orange\" in the string \"I like apple\"\n",
        "'''\n",
        "\n",
        "my_string = \"I like apple\"\n",
        "new_string = my_string.replace(\"apple\", \"orange\")\n",
        "print(new_string)\n",
        "\n",
        "\n"
      ],
      "metadata": {
        "colab": {
          "base_uri": "https://localhost:8080/"
        },
        "id": "7sk_a-4q6bNN",
        "outputId": "a2c727ae-d7c4-497e-93ec-f2c8ee8054d7"
      },
      "execution_count": 14,
      "outputs": [
        {
          "output_type": "stream",
          "name": "stdout",
          "text": [
            "I like orange\n"
          ]
        }
      ]
    },
    {
      "cell_type": "code",
      "source": [
        "'''\n",
        "6. Write a code to create a list with numbers 1 to 5 and print itP\n",
        "'''\n",
        "numbers = [1, 2, 3, 4, 5]\n",
        "print(numbers)\n",
        "\n",
        "\n",
        "numbers = list(range(1, 6))\n",
        "print(numbers)\n",
        "\n"
      ],
      "metadata": {
        "colab": {
          "base_uri": "https://localhost:8080/"
        },
        "id": "4qinrG-d65hU",
        "outputId": "15bbeb5d-eebf-48f6-80e4-ea09a2e64e29"
      },
      "execution_count": 15,
      "outputs": [
        {
          "output_type": "stream",
          "name": "stdout",
          "text": [
            "[1, 2, 3, 4, 5]\n",
            "[1, 2, 3, 4, 5]\n"
          ]
        }
      ]
    },
    {
      "cell_type": "code",
      "source": [
        "'''\n",
        "7.P Write a code to append the number 10 to the list [1, 2, 3, 4]\n",
        "'''\n",
        "my_list = [1, 2, 3, 4]\n",
        "my_list.append(10)\n",
        "print(my_list)\n",
        "\n"
      ],
      "metadata": {
        "colab": {
          "base_uri": "https://localhost:8080/"
        },
        "id": "k1cxVwsW7PN8",
        "outputId": "1cfb8c9d-a448-4c15-e40e-762da2f87108"
      },
      "execution_count": 37,
      "outputs": [
        {
          "output_type": "stream",
          "name": "stdout",
          "text": [
            "[1, 2, 3, 4, 10]\n"
          ]
        }
      ]
    },
    {
      "cell_type": "code",
      "source": [
        "'''\n",
        "8. Write a code to remove the number 3 from the list [1, 2, 3, 4, 5]\n",
        "'''\n",
        "my_list = [1, 2, 3, 4, 5]\n",
        "my_list.remove(3)\n",
        "print(my_list)\n",
        "\n"
      ],
      "metadata": {
        "colab": {
          "base_uri": "https://localhost:8080/"
        },
        "id": "atSXQBZJ7cy4",
        "outputId": "1ec96700-1360-43f3-ef98-b346efcc9799"
      },
      "execution_count": 38,
      "outputs": [
        {
          "output_type": "stream",
          "name": "stdout",
          "text": [
            "[1, 2, 4, 5]\n"
          ]
        }
      ]
    },
    {
      "cell_type": "code",
      "source": [
        "'''\n",
        "9. Write a code to access the second element in the list ['a', 'b', 'c', 'd']\n",
        "'''\n",
        "my_list = ['a', 'b', 'c', 'd']\n",
        "second_element = my_list[1]\n",
        "print(second_element)\n",
        "\n"
      ],
      "metadata": {
        "colab": {
          "base_uri": "https://localhost:8080/"
        },
        "id": "J7NFXQjg72GO",
        "outputId": "60092532-d67a-45cf-ac45-801a6f028fb9"
      },
      "execution_count": 36,
      "outputs": [
        {
          "output_type": "stream",
          "name": "stdout",
          "text": [
            "b\n"
          ]
        }
      ]
    },
    {
      "cell_type": "code",
      "source": [
        "'''\n",
        "10. P Write a code to reverse the list [10, 20, 30, 40, 50].\n",
        "'''\n",
        "my_list = [10, 20, 30, 40, 50]\n",
        "my_list.reverse()\n",
        "print(my_list)\n",
        "\n",
        "\n",
        "my_list = [10, 20, 30, 40, 50]\n",
        "reversed_list = my_list[::-1]\n",
        "print(reversed_list)\n",
        "\n"
      ],
      "metadata": {
        "colab": {
          "base_uri": "https://localhost:8080/"
        },
        "id": "CvzTYvtS8Edv",
        "outputId": "8ca3c505-a156-4d78-b6c0-6d19dbb109a3"
      },
      "execution_count": 16,
      "outputs": [
        {
          "output_type": "stream",
          "name": "stdout",
          "text": [
            "[50, 40, 30, 20, 10]\n",
            "[50, 40, 30, 20, 10]\n"
          ]
        }
      ]
    },
    {
      "cell_type": "code",
      "source": [
        "'''\n",
        "11. Write a code to create a tuple with the elements 100, 200, 300 and print it.\n",
        "'''\n",
        "my_tuple = (100, 200, 300)\n",
        "print(my_tuple)\n",
        "\n",
        "tuple:\n",
        "my_tuple = tuple([100, 200, 300])\n",
        "print(my_tuple)\n",
        "\n"
      ],
      "metadata": {
        "id": "DaUMUcCo8eQ2"
      },
      "execution_count": null,
      "outputs": []
    },
    {
      "cell_type": "code",
      "source": [
        "'''\n",
        "12. Write a code to access the second-to-last element of the tuple ('red', 'green', 'blue', 'yellow')\n",
        "'''\n",
        "my_tuple = ('red', 'green', 'blue', 'yellow')\n",
        "second_last_element = my_tuple[-2]\n",
        "print(second_last_element)\n",
        "\n"
      ],
      "metadata": {
        "colab": {
          "base_uri": "https://localhost:8080/"
        },
        "id": "sfFCgsVX80hr",
        "outputId": "8aa965f6-7480-469d-e1b7-588068683c40"
      },
      "execution_count": 18,
      "outputs": [
        {
          "output_type": "stream",
          "name": "stdout",
          "text": [
            "blue\n"
          ]
        }
      ]
    },
    {
      "cell_type": "code",
      "source": [
        "'''\n",
        "13.  Write a code to find the minimum number in the tuple (10, 20, 5, 15).\n",
        "'''\n",
        "my_tuple = (10, 20, 5, 15)\n",
        "min_number = min(my_tuple)\n",
        "print(min_number)\n",
        "\n"
      ],
      "metadata": {
        "colab": {
          "base_uri": "https://localhost:8080/"
        },
        "id": "buma1Kyp9J_S",
        "outputId": "a69c15d5-e1be-46b4-e32f-b89e4ec29c93"
      },
      "execution_count": 19,
      "outputs": [
        {
          "output_type": "stream",
          "name": "stdout",
          "text": [
            "5\n"
          ]
        }
      ]
    },
    {
      "cell_type": "code",
      "source": [
        "'''\n",
        "14. Write a code to find the index of the element \"cat\" in the tuple ('dog', 'cat', 'rabbit').\n",
        "'''\n",
        "my_tuple = ('dog', 'cat', 'rabbit')\n",
        "index = my_tuple.index('cat')\n",
        "print(index)\n",
        "\n"
      ],
      "metadata": {
        "colab": {
          "base_uri": "https://localhost:8080/"
        },
        "id": "frVgxUsZ9W2i",
        "outputId": "0aefbe55-fb35-4403-81c5-9f8a450a46f4"
      },
      "execution_count": 20,
      "outputs": [
        {
          "output_type": "stream",
          "name": "stdout",
          "text": [
            "1\n"
          ]
        }
      ]
    },
    {
      "cell_type": "code",
      "source": [
        "'''\n",
        "15. Write a code to create a tuple containing three different fruits and check if \"kiwi\" is in it.\n",
        "'''\n",
        "fruits = ('apple', 'banana', 'orange')\n",
        "if 'kiwi' in fruits:\n",
        "    print(\"Yes, 'kiwi' is in the tuple.\")\n",
        "else:\n",
        "    print(\"No, 'kiwi' is not in the tuple.\")\n",
        "\n"
      ],
      "metadata": {
        "colab": {
          "base_uri": "https://localhost:8080/"
        },
        "id": "ooleuOyy9n88",
        "outputId": "5c107423-617c-42d2-f417-b036912fe071"
      },
      "execution_count": 21,
      "outputs": [
        {
          "output_type": "stream",
          "name": "stdout",
          "text": [
            "No, 'kiwi' is not in the tuple.\n"
          ]
        }
      ]
    },
    {
      "cell_type": "code",
      "source": [
        "'''\n",
        "16.  Write a code to create a set with the elements 'a', 'b', 'c' and print it.\n",
        "'''\n",
        "my_set = {'a', 'b', 'c'}\n",
        "print(my_set)\n",
        "\n",
        "my_set = set(['a', 'b', 'c'])\n",
        "print(my_set)\n"
      ],
      "metadata": {
        "colab": {
          "base_uri": "https://localhost:8080/"
        },
        "id": "Ka7Pc0LC93x1",
        "outputId": "e03c8d02-3d62-4a49-b7a5-258c8fc80281"
      },
      "execution_count": 22,
      "outputs": [
        {
          "output_type": "stream",
          "name": "stdout",
          "text": [
            "{'c', 'b', 'a'}\n",
            "{'c', 'a', 'b'}\n"
          ]
        }
      ]
    },
    {
      "cell_type": "code",
      "source": [
        "'''\n",
        "17.  Write a code to clear all elements from the set {1, 2, 3, 4, 5}.\n",
        "'''\n",
        "my_set = {1, 2, 3, 4, 5}\n",
        "print(\"Before clearing:\", my_set)\n",
        "my_set.clear()\n",
        "print(\"After clearing:\", my_set)\n"
      ],
      "metadata": {
        "colab": {
          "base_uri": "https://localhost:8080/"
        },
        "id": "rpquJhC7-QgU",
        "outputId": "1ea85220-2035-4fb0-a61a-d4742947916a"
      },
      "execution_count": 23,
      "outputs": [
        {
          "output_type": "stream",
          "name": "stdout",
          "text": [
            "Before clearing: {1, 2, 3, 4, 5}\n",
            "After clearing: set()\n"
          ]
        }
      ]
    },
    {
      "cell_type": "code",
      "source": [
        "'''\n",
        "18.  Write a code to remove the element 4 from the set {1, 2, 3, 4}.\n",
        "'''\n",
        "my_set = {1, 2, 3, 4}\n",
        "my_set.remove(4)\n",
        "print(my_set)\n"
      ],
      "metadata": {
        "colab": {
          "base_uri": "https://localhost:8080/"
        },
        "id": "tJg8FkoZ-cz_",
        "outputId": "56da4096-acbc-471d-d2c8-33e89457f114"
      },
      "execution_count": 24,
      "outputs": [
        {
          "output_type": "stream",
          "name": "stdout",
          "text": [
            "{1, 2, 3}\n"
          ]
        }
      ]
    },
    {
      "cell_type": "code",
      "source": [
        "'''\n",
        "19. Write a code to find the union of two sets {1, 2, 3} and {3, 4, 5}\n",
        "'''\n",
        "set1 = {1, 2, 3}\n",
        "set2 = {3, 4, 5}\n",
        "union_set = set1.union(set2)\n",
        "print(union_set)\n"
      ],
      "metadata": {
        "colab": {
          "base_uri": "https://localhost:8080/"
        },
        "id": "AVUw9yI6-wbA",
        "outputId": "4c52ff36-3155-4c96-d552-806e3a14b7b5"
      },
      "execution_count": 25,
      "outputs": [
        {
          "output_type": "stream",
          "name": "stdout",
          "text": [
            "{1, 2, 3, 4, 5}\n"
          ]
        }
      ]
    },
    {
      "cell_type": "code",
      "source": [
        "'''\n",
        "20.  Write a code to find the intersection of two sets {1, 2, 3} and {2, 3, 4}.\n",
        "'''\n",
        "set1 = {1, 2, 3}\n",
        "set2 = {2, 3, 4}\n",
        "intersection_set = set1.intersection(set2)\n",
        "print(intersection_set)\n"
      ],
      "metadata": {
        "colab": {
          "base_uri": "https://localhost:8080/"
        },
        "id": "QTENmFhc-99I",
        "outputId": "27477ee4-4ba6-456f-c8d0-7e8eea802143"
      },
      "execution_count": 26,
      "outputs": [
        {
          "output_type": "stream",
          "name": "stdout",
          "text": [
            "{2, 3}\n"
          ]
        }
      ]
    },
    {
      "cell_type": "code",
      "source": [
        "'''\n",
        "21.  Write a code to create a dictionary with the keys \"name\", \"age\", and \"city\", and print it\n",
        "'''\n",
        " person = {\n",
        "    \"name\": \"John\",\n",
        "    \"age\": 30,\n",
        "    \"city\": \"New York\"\n",
        "}\n",
        "print(person)\n"
      ],
      "metadata": {
        "colab": {
          "base_uri": "https://localhost:8080/",
          "height": 228
        },
        "id": "FoyTl3r__K4W",
        "outputId": "f8abc3e9-ac08-4bb4-9666-006be5b1df3e"
      },
      "execution_count": 6,
      "outputs": [
        {
          "output_type": "error",
          "ename": "TypeError",
          "evalue": "bad operand type for unary -: 'dict'",
          "traceback": [
            "\u001b[0;31m---------------------------------------------------------------------------\u001b[0m",
            "\u001b[0;31mTypeError\u001b[0m                                 Traceback (most recent call last)",
            "\u001b[0;32m/tmp/ipython-input-6-660431385.py\u001b[0m in \u001b[0;36m<cell line: 0>\u001b[0;34m()\u001b[0m\n\u001b[1;32m      2\u001b[0m \u001b[0;36m21.\u001b[0m  \u001b[0mWrite\u001b[0m \u001b[0ma\u001b[0m \u001b[0mcode\u001b[0m \u001b[0mto\u001b[0m \u001b[0mcreate\u001b[0m \u001b[0ma\u001b[0m \u001b[0mdictionary\u001b[0m \u001b[0;32mwith\u001b[0m \u001b[0mthe\u001b[0m \u001b[0mkeys\u001b[0m \u001b[0;34m\"name\"\u001b[0m\u001b[0;34m,\u001b[0m \u001b[0;34m\"age\"\u001b[0m\u001b[0;34m,\u001b[0m \u001b[0;32mand\u001b[0m \u001b[0;34m\"city\"\u001b[0m\u001b[0;34m,\u001b[0m \u001b[0;32mand\u001b[0m \u001b[0mprint\u001b[0m \u001b[0mit\u001b[0m\u001b[0;34m\u001b[0m\u001b[0;34m\u001b[0m\u001b[0m\n\u001b[1;32m      3\u001b[0m '''\n\u001b[0;32m----> 4\u001b[0;31m -   {\n\u001b[0m\u001b[1;32m      5\u001b[0m     \u001b[0;34m\"name\"\u001b[0m\u001b[0;34m:\u001b[0m \u001b[0;34m\"John\"\u001b[0m\u001b[0;34m,\u001b[0m\u001b[0;34m\u001b[0m\u001b[0;34m\u001b[0m\u001b[0m\n\u001b[1;32m      6\u001b[0m     \u001b[0;34m\"age\"\u001b[0m\u001b[0;34m:\u001b[0m \u001b[0;36m30\u001b[0m\u001b[0;34m,\u001b[0m\u001b[0;34m\u001b[0m\u001b[0;34m\u001b[0m\u001b[0m\n",
            "\u001b[0;31mTypeError\u001b[0m: bad operand type for unary -: 'dict'"
          ]
        }
      ]
    },
    {
      "cell_type": "code",
      "source": [
        "'''\n",
        "22. Write a code to add a new key-value pair \"country\": \"USA\" to the dictionary {'name': 'John', 'age': 25}.\n",
        "'''\n",
        "person = {'name': 'John', 'age': 25}\n",
        "person[\"country\"] = \"USA\"\n",
        "print(person)\n",
        "\n"
      ],
      "metadata": {
        "colab": {
          "base_uri": "https://localhost:8080/"
        },
        "id": "CKJgQZCi_ZYP",
        "outputId": "2216c801-8c72-45f0-ded5-fb41a3739444"
      },
      "execution_count": 27,
      "outputs": [
        {
          "output_type": "stream",
          "name": "stdout",
          "text": [
            "{'name': 'John', 'age': 25, 'country': 'USA'}\n"
          ]
        }
      ]
    },
    {
      "cell_type": "code",
      "source": [
        "'''\n",
        "23.  Write a code to access the value associated with the key \"name\" in the dictionary {'name': 'Alice', 'age': 30}.\n",
        "'''\n",
        "person = {'name': 'Alice', 'age': 30}\n",
        "name = person[\"name\"]\n",
        "print(name)\n",
        "\n"
      ],
      "metadata": {
        "colab": {
          "base_uri": "https://localhost:8080/"
        },
        "id": "At0XMPt9_qrQ",
        "outputId": "5050355e-850e-44f4-dcc7-68f97626a6b3"
      },
      "execution_count": 28,
      "outputs": [
        {
          "output_type": "stream",
          "name": "stdout",
          "text": [
            "Alice\n"
          ]
        }
      ]
    },
    {
      "cell_type": "code",
      "source": [
        "'''\n",
        "24. Write a code to remove the key \"age\" from the dictionary {'name': 'Bob', 'age': 22, 'city': 'New York'}.\n",
        "'''\n",
        "person = {'name': 'Bob', 'age': 22, 'city': 'New York'}\n",
        "del person[\"age\"]\n",
        "print(person)\n"
      ],
      "metadata": {
        "colab": {
          "base_uri": "https://localhost:8080/"
        },
        "id": "EOvpyB3u_-mN",
        "outputId": "06abd0e2-0410-4ccd-ca0b-7cce120d2464"
      },
      "execution_count": 29,
      "outputs": [
        {
          "output_type": "stream",
          "name": "stdout",
          "text": [
            "{'name': 'Bob', 'city': 'New York'}\n"
          ]
        }
      ]
    },
    {
      "cell_type": "code",
      "source": [
        "'''\n",
        "25.  Write a code to check if the key \"city\" exists in the dictionary {'name': 'Alice', 'city': 'Paris'}.\n",
        "'''\n",
        "person = {'name': 'Alice', 'city': 'Paris'}\n",
        "if \"city\" in person:\n",
        "    print(\"Yes, 'city' exists in the dictionary.\")\n",
        "else:\n",
        "    print(\"No, 'city' does not exist in the dictionary.\")\n"
      ],
      "metadata": {
        "colab": {
          "base_uri": "https://localhost:8080/"
        },
        "id": "fumSQ3n3ASsP",
        "outputId": "fa3273e8-09fd-4496-dace-5d6dc63d3995"
      },
      "execution_count": 30,
      "outputs": [
        {
          "output_type": "stream",
          "name": "stdout",
          "text": [
            "Yes, 'city' exists in the dictionary.\n"
          ]
        }
      ]
    },
    {
      "cell_type": "code",
      "source": [
        "\n",
        "'''\n",
        "26. Write a code to create a list, a tuple, and a dictionary, and print them all.\n",
        "'''\n",
        "# Create a list\n",
        "my_list = [1, 2, 3, 4, 5]\n",
        "print(\"List:\", my_list)\n",
        "\n",
        "# Create a tuple\n",
        "my_tuple = (6, 7, 8, 9, 10)\n",
        "print(\"Tuple:\", my_tuple)\n",
        "\n",
        "# Create a dictionary\n",
        "my_dict = {\"name\": \"John\", \"age\": 30}\n",
        "print(\"Dictionary:\", my_dict)\n",
        "\n",
        "# Create a tuple\n",
        "my_tuple = (6, 7, 8, 9, 10)\n",
        "print(\"Tuple:\", my_tuple)\n",
        "\n",
        "# Create a dictionary\n",
        "my_dict = {\"name\": \"John\", \"age\": 30}\n",
        "print(\"Dictionary:\", my_dict)\n",
        "\n"
      ],
      "metadata": {
        "colab": {
          "base_uri": "https://localhost:8080/"
        },
        "id": "seAwaaGnAvrX",
        "outputId": "0776a417-a5a1-4407-c3f3-79c7d72b7019"
      },
      "execution_count": 32,
      "outputs": [
        {
          "output_type": "stream",
          "name": "stdout",
          "text": [
            "List: [1, 2, 3, 4, 5]\n",
            "Tuple: (6, 7, 8, 9, 10)\n",
            "Dictionary: {'name': 'John', 'age': 30}\n",
            "Tuple: (6, 7, 8, 9, 10)\n",
            "Dictionary: {'name': 'John', 'age': 30}\n"
          ]
        }
      ]
    },
    {
      "cell_type": "code",
      "source": [],
      "metadata": {
        "colab": {
          "base_uri": "https://localhost:8080/",
          "height": 106
        },
        "id": "83X7BGhgBOzO",
        "outputId": "d6b413a6-b1ca-46f6-9714-14e1a1679735"
      },
      "execution_count": 4,
      "outputs": [
        {
          "output_type": "error",
          "ename": "SyntaxError",
          "evalue": "incomplete input (ipython-input-4-3857640367.py, line 1)",
          "traceback": [
            "\u001b[0;36m  File \u001b[0;32m\"/tmp/ipython-input-4-3857640367.py\"\u001b[0;36m, line \u001b[0;32m1\u001b[0m\n\u001b[0;31m    '''\u001b[0m\n\u001b[0m    ^\u001b[0m\n\u001b[0;31mSyntaxError\u001b[0m\u001b[0;31m:\u001b[0m incomplete input\n"
          ]
        }
      ]
    },
    {
      "cell_type": "code",
      "source": [
        "'''\n",
        "27.Write a code to create a list of 5 random numbers between 1 and 100, sort it in ascending order, and print the\n",
        "result.(replaced)\n",
        "\n",
        "'''\n",
        "random.sample(range(1, 101), 5)\n",
        "print(\"Unsorted list:\", random_numbers)\n",
        "print(\"Sorted list:\", random_numbers)\n"
      ],
      "metadata": {
        "colab": {
          "base_uri": "https://localhost:8080/",
          "height": 193
        },
        "id": "EHCSdtKPE7IE",
        "outputId": "fd375a72-3da3-4d83-aec0-99eab05d64fa"
      },
      "execution_count": 35,
      "outputs": [
        {
          "output_type": "error",
          "ename": "NameError",
          "evalue": "name 'random' is not defined",
          "traceback": [
            "\u001b[0;31m---------------------------------------------------------------------------\u001b[0m",
            "\u001b[0;31mNameError\u001b[0m                                 Traceback (most recent call last)",
            "\u001b[0;32m/tmp/ipython-input-35-785634268.py\u001b[0m in \u001b[0;36m<cell line: 0>\u001b[0;34m()\u001b[0m\n\u001b[1;32m      4\u001b[0m \u001b[0;34m\u001b[0m\u001b[0m\n\u001b[1;32m      5\u001b[0m '''\n\u001b[0;32m----> 6\u001b[0;31m \u001b[0mrandom\u001b[0m\u001b[0;34m.\u001b[0m\u001b[0msample\u001b[0m\u001b[0;34m(\u001b[0m\u001b[0mrange\u001b[0m\u001b[0;34m(\u001b[0m\u001b[0;36m1\u001b[0m\u001b[0;34m,\u001b[0m \u001b[0;36m101\u001b[0m\u001b[0;34m)\u001b[0m\u001b[0;34m,\u001b[0m \u001b[0;36m5\u001b[0m\u001b[0;34m)\u001b[0m\u001b[0;34m\u001b[0m\u001b[0;34m\u001b[0m\u001b[0m\n\u001b[0m\u001b[1;32m      7\u001b[0m \u001b[0mprint\u001b[0m\u001b[0;34m(\u001b[0m\u001b[0;34m\"Unsorted list:\"\u001b[0m\u001b[0;34m,\u001b[0m \u001b[0mrandom_numbers\u001b[0m\u001b[0;34m)\u001b[0m\u001b[0;34m\u001b[0m\u001b[0;34m\u001b[0m\u001b[0m\n",
            "\u001b[0;31mNameError\u001b[0m: name 'random' is not defined"
          ]
        }
      ]
    }
  ]
}